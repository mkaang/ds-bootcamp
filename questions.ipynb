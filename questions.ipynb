{
 "cells": [
  {
   "cell_type": "markdown",
   "metadata": {},
   "source": [
    "### Q1: Is the mean of distances to a cluster as the same as the distance to the cluster centroid?\n",
    "Let's check it out.."
   ]
  },
  {
   "cell_type": "code",
   "execution_count": 42,
   "metadata": {},
   "outputs": [],
   "source": [
    "from sklearn.datasets import make_blobs\n",
    "import pandas as pd\n",
    "import numpy as np\n",
    "\n",
    "# create data\n",
    "x, y = make_blobs(n_samples=100, centers=5, n_features=2, random_state=42, cluster_std=0.5)\n",
    "df = pd.DataFrame(dict(x1=x[:,0], x2=x[:,1], y=y))\n",
    "\n",
    "# define a sample point\n",
    "sample = df.sample(1, random_state=42)\n",
    "\n",
    "# define the cluster\n",
    "label = 4\n",
    "cluster = df[df.y == label]"
   ]
  },
  {
   "cell_type": "code",
   "execution_count": 43,
   "metadata": {},
   "outputs": [],
   "source": [
    "def l2(x1, x2, y1, y2):\n",
    "    return np.sqrt((x1 - x2)**2 + (y1 - y2)**2)\n",
    "\n",
    "def l1(x1, x2, y1, y2):\n",
    "    return np.abs(x1 - x2) + np.abs(y1 - y2)"
   ]
  },
  {
   "cell_type": "code",
   "execution_count": 45,
   "metadata": {},
   "outputs": [
    {
     "name": "stdout",
     "output_type": "stream",
     "text": [
      "Mean of distances: 3.26\n",
      "Distance to cluster centroid: 3.23\n"
     ]
    }
   ],
   "source": [
    "summation = 0\n",
    "s_x1 = sample.x1\n",
    "s_x2 = sample.x2\n",
    "for c_x1, c_x2 in zip(cluster.x1, cluster.x2):\n",
    "    summation += l2(c_x1, s_x1, c_x2, s_x2)\n",
    "print(\"Mean of distances: %.2f\" % (summation.item() / cluster.shape[0]))\n",
    "\n",
    "s_x1 = sample.x1\n",
    "s_x2 = sample.x2\n",
    "cm_x1 = cluster.x1.mean()\n",
    "cm_x2 = cluster.x2.mean()\n",
    "summation = 0\n",
    "for x1, x2 in zip(cluster.x1, cluster.x2):\n",
    "    summation += l2(cm_x1, s_x1, cm_x2, s_x2)\n",
    "print(\"Distance to cluster centroid: %.2f\" % (summation.item() / cluster.shape[0]))"
   ]
  },
  {
   "cell_type": "markdown",
   "metadata": {},
   "source": [
    "It seems that when std is decreasing the these two errors are getting closer."
   ]
  }
 ],
 "metadata": {
  "interpreter": {
   "hash": "593d40d7cffee2f7fc9148203eec6afcc615f6015e795468e82ce0a2cb5c8eb0"
  },
  "kernelspec": {
   "display_name": "Python 3.9.7 ('base')",
   "language": "python",
   "name": "python3"
  },
  "language_info": {
   "codemirror_mode": {
    "name": "ipython",
    "version": 3
   },
   "file_extension": ".py",
   "mimetype": "text/x-python",
   "name": "python",
   "nbconvert_exporter": "python",
   "pygments_lexer": "ipython3",
   "version": "3.9.7"
  },
  "orig_nbformat": 4
 },
 "nbformat": 4,
 "nbformat_minor": 2
}
