{
 "cells": [
  {
   "cell_type": "code",
   "execution_count": 2,
   "metadata": {},
   "outputs": [],
   "source": [
    "import pandas as pd\n",
    "from surprise import Dataset\n",
    "from surprise import Reader"
   ]
  },
  {
   "cell_type": "code",
   "execution_count": 12,
   "metadata": {},
   "outputs": [],
   "source": [
    "df = pd.read_csv('transactions_1m.csv')\n",
    "df_copy = df.copy()\n",
    "\n",
    "df_copy = df_copy.groupby([\"customer_id\", \"article_id\"])['price'].sum()\n",
    "df_copy = df_copy.reset_index()\n",
    "\n",
    "# df = pd.read_csv('https://files.grouplens.org/datasets/movielens/ml-100k/u.data', delimiter=r'\\t',\n",
    "# names=['user_id', 'item_id', 'rating', 'timestamp'])"
   ]
  },
  {
   "cell_type": "code",
   "execution_count": 13,
   "metadata": {},
   "outputs": [
    {
     "name": "stdout",
     "output_type": "stream",
     "text": [
      "2.426694915254237 0.000322033898305\n"
     ]
    }
   ],
   "source": [
    "print(df_copy.price.max(), df_copy.price.min())"
   ]
  },
  {
   "cell_type": "code",
   "execution_count": 14,
   "metadata": {},
   "outputs": [],
   "source": [
    "# min max normalization\n",
    "df_copy.price = (df_copy.price - df_copy.price.min()) / (df_copy.price.max() - df_copy.price.min())"
   ]
  },
  {
   "cell_type": "code",
   "execution_count": 15,
   "metadata": {},
   "outputs": [
    {
     "name": "stdout",
     "output_type": "stream",
     "text": [
      "1.0 0.0\n"
     ]
    }
   ],
   "source": [
    "print(df_copy.price.max(), df_copy.price.min())"
   ]
  },
  {
   "cell_type": "code",
   "execution_count": 8,
   "metadata": {},
   "outputs": [],
   "source": [
    "reader = Reader(rating_scale=(0, 1))\n",
    "data = Dataset.load_from_df(df[[\"customer_id\", \"article_id\", \"price\"]], reader=reader)"
   ]
  },
  {
   "cell_type": "code",
   "execution_count": 9,
   "metadata": {},
   "outputs": [],
   "source": [
    "from surprise import NormalPredictor, BaselineOnly, SVD, SVDpp, NMF, SlopeOne, CoClustering, accuracy\n",
    "from surprise.model_selection import cross_validate, train_test_split"
   ]
  },
  {
   "cell_type": "code",
   "execution_count": 9,
   "metadata": {},
   "outputs": [
    {
     "ename": "TypeError",
     "evalue": "'NormalPredictor' object is not iterable",
     "output_type": "error",
     "traceback": [
      "\u001b[0;31m---------------------------------------------------------------------------\u001b[0m",
      "\u001b[0;31mTypeError\u001b[0m                                 Traceback (most recent call last)",
      "\u001b[0;32m/tmp/ipykernel_4250/220116786.py\u001b[0m in \u001b[0;36m<module>\u001b[0;34m\u001b[0m\n\u001b[1;32m      3\u001b[0m \u001b[0mtrainingSet\u001b[0m \u001b[0;34m=\u001b[0m \u001b[0mdata\u001b[0m\u001b[0;34m.\u001b[0m\u001b[0mbuild_full_trainset\u001b[0m\u001b[0;34m(\u001b[0m\u001b[0;34m)\u001b[0m\u001b[0;34m\u001b[0m\u001b[0;34m\u001b[0m\u001b[0m\n\u001b[1;32m      4\u001b[0m \u001b[0;34m\u001b[0m\u001b[0m\n\u001b[0;32m----> 5\u001b[0;31m \u001b[0;32mfor\u001b[0m \u001b[0mmodel\u001b[0m \u001b[0;32min\u001b[0m \u001b[0mmodels\u001b[0m\u001b[0;34m[\u001b[0m\u001b[0;36m0\u001b[0m\u001b[0;34m]\u001b[0m\u001b[0;34m:\u001b[0m\u001b[0;34m\u001b[0m\u001b[0;34m\u001b[0m\u001b[0m\n\u001b[0m\u001b[1;32m      6\u001b[0m     \u001b[0mmodel_to_fit\u001b[0m \u001b[0;34m=\u001b[0m \u001b[0mmodel\u001b[0m\u001b[0;34m\u001b[0m\u001b[0;34m\u001b[0m\u001b[0m\n\u001b[1;32m      7\u001b[0m     \u001b[0mmodel_to_fit\u001b[0m\u001b[0;34m.\u001b[0m\u001b[0mfit\u001b[0m\u001b[0;34m(\u001b[0m\u001b[0mtrainingSet\u001b[0m\u001b[0;34m)\u001b[0m\u001b[0;34m\u001b[0m\u001b[0;34m\u001b[0m\u001b[0m\n",
      "\u001b[0;31mTypeError\u001b[0m: 'NormalPredictor' object is not iterable"
     ]
    }
   ],
   "source": [
    "models = [NormalPredictor(), BaselineOnly(), SVD(), SVDpp(), NMF(), SlopeOne(), CoClustering()]"
   ]
  },
  {
   "cell_type": "code",
   "execution_count": 10,
   "metadata": {},
   "outputs": [
    {
     "name": "stdout",
     "output_type": "stream",
     "text": [
      "Estimating biases using als...\n",
      "Estimating biases using als...\n",
      "Estimating biases using als...\n",
      "Estimating biases using als...\n",
      "Estimating biases using als...\n",
      "Evaluating RMSE, MAE of algorithm BaselineOnly on 5 split(s).\n",
      "\n",
      "                  Fold 1  Fold 2  Fold 3  Fold 4  Fold 5  Mean    Std     \n",
      "RMSE (testset)    0.0073  0.0072  0.0072  0.0070  0.0070  0.0071  0.0001  \n",
      "MAE (testset)     0.0034  0.0034  0.0034  0.0034  0.0034  0.0034  0.0000  \n",
      "Fit time          4.18    4.25    4.25    4.26    4.49    4.29    0.11    \n",
      "Test time         1.38    1.66    1.29    1.59    1.30    1.44    0.15    \n"
     ]
    },
    {
     "data": {
      "text/plain": [
       "{'test_rmse': array([0.00731682, 0.00715006, 0.00715319, 0.00702276, 0.00700244]),\n",
       " 'test_mae': array([0.00341081, 0.00339963, 0.00336408, 0.0033927 , 0.00337454]),\n",
       " 'fit_time': (4.177307844161987,\n",
       "  4.245941400527954,\n",
       "  4.250415563583374,\n",
       "  4.256869077682495,\n",
       "  4.494907855987549),\n",
       " 'test_time': (1.3813273906707764,\n",
       "  1.6555943489074707,\n",
       "  1.28755784034729,\n",
       "  1.5944221019744873,\n",
       "  1.3023717403411865)}"
      ]
     },
     "execution_count": 10,
     "metadata": {},
     "output_type": "execute_result"
    }
   ],
   "source": [
    "model = BaselineOnly()\n",
    "cross_validate(model, data, measures=['RMSE', 'MAE'], cv=5, verbose=True)"
   ]
  },
  {
   "cell_type": "code",
   "execution_count": 16,
   "metadata": {},
   "outputs": [
    {
     "name": "stdout",
     "output_type": "stream",
     "text": [
      "Evaluating RMSE, MAE of algorithm NormalPredictor on 5 split(s).\n",
      "\n",
      "                  Fold 1  Fold 2  Fold 3  Fold 4  Fold 5  Mean    Std     \n",
      "RMSE (testset)    0.0307  0.0308  0.0306  0.0307  0.0307  0.0307  0.0001  \n",
      "MAE (testset)     0.0229  0.0229  0.0229  0.0229  0.0229  0.0229  0.0000  \n",
      "Fit time          0.96    1.29    1.33    1.30    1.33    1.24    0.14    \n",
      "Test time         1.82    1.51    1.72    1.94    1.40    1.68    0.20    \n"
     ]
    },
    {
     "data": {
      "text/plain": [
       "{'test_rmse': array([0.03070203, 0.03080051, 0.03059987, 0.03065702, 0.03074623]),\n",
       " 'test_mae': array([0.02292512, 0.02294214, 0.0228526 , 0.02291067, 0.02285821]),\n",
       " 'fit_time': (0.9619271755218506,\n",
       "  1.292931079864502,\n",
       "  1.3346569538116455,\n",
       "  1.2979943752288818,\n",
       "  1.3294148445129395),\n",
       " 'test_time': (1.8231685161590576,\n",
       "  1.5106778144836426,\n",
       "  1.7239384651184082,\n",
       "  1.9396562576293945,\n",
       "  1.4016315937042236)}"
      ]
     },
     "execution_count": 16,
     "metadata": {},
     "output_type": "execute_result"
    }
   ],
   "source": [
    "model = NormalPredictor()\n",
    "cross_validate(model, data, measures=['RMSE', 'MAE'], cv=5, verbose=True)"
   ]
  },
  {
   "cell_type": "code",
   "execution_count": 17,
   "metadata": {},
   "outputs": [
    {
     "name": "stdout",
     "output_type": "stream",
     "text": [
      "Evaluating RMSE, MAE of algorithm SVD on 5 split(s).\n",
      "\n",
      "                  Fold 1  Fold 2  Fold 3  Fold 4  Fold 5  Mean    Std     \n",
      "RMSE (testset)    0.0484  0.0481  0.0482  0.0480  0.0483  0.0482  0.0001  \n",
      "MAE (testset)     0.0323  0.0322  0.0321  0.0320  0.0322  0.0322  0.0001  \n",
      "Fit time          52.52   43.05   42.07   42.60   44.49   44.95   3.87    \n",
      "Test time         1.88    1.68    1.73    1.88    1.75    1.78    0.08    \n"
     ]
    },
    {
     "data": {
      "text/plain": [
       "{'test_rmse': array([0.0484221 , 0.04811608, 0.04815842, 0.04802714, 0.04831214]),\n",
       " 'test_mae': array([0.03226896, 0.03215781, 0.03214677, 0.03203954, 0.03218473]),\n",
       " 'fit_time': (52.51652979850769,\n",
       "  43.053332567214966,\n",
       "  42.0662407875061,\n",
       "  42.60269474983215,\n",
       "  44.48750019073486),\n",
       " 'test_time': (1.8771655559539795,\n",
       "  1.680495262145996,\n",
       "  1.7296242713928223,\n",
       "  1.8794047832489014,\n",
       "  1.7461025714874268)}"
      ]
     },
     "execution_count": 17,
     "metadata": {},
     "output_type": "execute_result"
    }
   ],
   "source": [
    "model = SVD()\n",
    "cross_validate(model, data, measures=['RMSE', 'MAE'], cv=5, verbose=True)"
   ]
  },
  {
   "cell_type": "code",
   "execution_count": 18,
   "metadata": {},
   "outputs": [
    {
     "name": "stdout",
     "output_type": "stream",
     "text": [
      "Evaluating RMSE, MAE of algorithm NMF on 5 split(s).\n",
      "\n",
      "                  Fold 1  Fold 2  Fold 3  Fold 4  Fold 5  Mean    Std     \n",
      "RMSE (testset)    0.0372  0.0373  0.0373  0.0371  0.0370  0.0372  0.0001  \n",
      "MAE (testset)     0.0312  0.0312  0.0312  0.0311  0.0311  0.0312  0.0000  \n",
      "Fit time          58.92   59.20   60.11   59.18   59.50   59.38   0.41    \n",
      "Test time         1.57    1.65    1.40    1.41    1.67    1.54    0.12    \n"
     ]
    },
    {
     "data": {
      "text/plain": [
       "{'test_rmse': array([0.03718244, 0.0372881 , 0.03725771, 0.0371285 , 0.03701132]),\n",
       " 'test_mae': array([0.03116212, 0.03117008, 0.03119605, 0.03114586, 0.03109338]),\n",
       " 'fit_time': (58.91968584060669,\n",
       "  59.19771981239319,\n",
       "  60.10731315612793,\n",
       "  59.181564807891846,\n",
       "  59.50170397758484),\n",
       " 'test_time': (1.5719811916351318,\n",
       "  1.6478946208953857,\n",
       "  1.3962821960449219,\n",
       "  1.4051756858825684,\n",
       "  1.6676452159881592)}"
      ]
     },
     "execution_count": 18,
     "metadata": {},
     "output_type": "execute_result"
    }
   ],
   "source": [
    "model = NMF()\n",
    "cross_validate(model, data, measures=['RMSE', 'MAE'], cv=5, verbose=True)"
   ]
  }
 ],
 "metadata": {
  "interpreter": {
   "hash": "593d40d7cffee2f7fc9148203eec6afcc615f6015e795468e82ce0a2cb5c8eb0"
  },
  "kernelspec": {
   "display_name": "Python 3.9.7 ('base')",
   "language": "python",
   "name": "python3"
  },
  "language_info": {
   "codemirror_mode": {
    "name": "ipython",
    "version": 3
   },
   "file_extension": ".py",
   "mimetype": "text/x-python",
   "name": "python",
   "nbconvert_exporter": "python",
   "pygments_lexer": "ipython3",
   "version": "3.9.7"
  },
  "orig_nbformat": 4
 },
 "nbformat": 4,
 "nbformat_minor": 2
}
