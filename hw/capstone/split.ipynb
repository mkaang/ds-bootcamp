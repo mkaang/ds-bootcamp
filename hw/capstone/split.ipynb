{
 "cells": [
  {
   "cell_type": "code",
   "execution_count": 1,
   "metadata": {},
   "outputs": [],
   "source": [
    "import pandas as pd\n",
    "import datetime\n",
    "\n",
    "transactions = pd.read_csv('data/transactions.csv', parse_dates=['t_dat'])\n",
    "articles = pd.read_csv('data/articles.csv')\n",
    "customers = pd.read_csv('data/customers.csv')"
   ]
  },
  {
   "cell_type": "markdown",
   "metadata": {},
   "source": [
    "### Train Test Split"
   ]
  },
  {
   "cell_type": "code",
   "execution_count": 2,
   "metadata": {},
   "outputs": [],
   "source": [
    "start_train = datetime.date(2019, 9, 22)\n",
    "start_test = datetime.date(2020, 9, 15)\n",
    "\n",
    "transactions_test = transactions[transactions.t_dat > pd.Timestamp(start_test)]\n",
    "transactions_train = transactions[(transactions.t_dat <= pd.Timestamp(start_test))]\n",
    "transactions_train_1year = transactions[(transactions.t_dat <= pd.Timestamp(start_test))& (transactions.t_dat > pd.Timestamp(start_train))]"
   ]
  },
  {
   "cell_type": "markdown",
   "metadata": {},
   "source": [
    "#### Check whether how many customers unique in splits"
   ]
  },
  {
   "cell_type": "code",
   "execution_count": 3,
   "metadata": {},
   "outputs": [
    {
     "name": "stdout",
     "output_type": "stream",
     "text": [
      "1362281 1371980\n",
      "104547 105542\n"
     ]
    }
   ],
   "source": [
    "print(transactions.customer_id.nunique(), customers.customer_id.nunique())\n",
    "print(transactions.article_id.nunique(), articles.article_id.nunique())"
   ]
  },
  {
   "cell_type": "markdown",
   "metadata": {},
   "source": [
    "- It is possible that a customer never purchased anything before can purchase something in the coming week.\n",
    "- Are we really able to predict for the customer we did not see before?\n",
    "- Are we really able to predict for the article we did not see before?"
   ]
  },
  {
   "cell_type": "code",
   "execution_count": 4,
   "metadata": {},
   "outputs": [
    {
     "name": "stdout",
     "output_type": "stream",
     "text": [
      "1362281 1356709 68984\n",
      "104547 103880 17986\n"
     ]
    }
   ],
   "source": [
    "# All train set\n",
    "print(transactions.customer_id.nunique(), transactions_train.customer_id.nunique(), transactions_test.customer_id.nunique())\n",
    "print(transactions.article_id.nunique(), transactions_train.article_id.nunique(), transactions_test.article_id.nunique())"
   ]
  },
  {
   "cell_type": "code",
   "execution_count": 5,
   "metadata": {},
   "outputs": [
    {
     "name": "stdout",
     "output_type": "stream",
     "text": [
      "1362281 986582 68984\n",
      "104547 70221 17986\n"
     ]
    }
   ],
   "source": [
    "# 1 year train set\n",
    "print(transactions.customer_id.nunique(), transactions_train_1year.customer_id.nunique(), transactions_test.customer_id.nunique())\n",
    "print(transactions.article_id.nunique(), transactions_train_1year.article_id.nunique(), transactions_test.article_id.nunique())"
   ]
  },
  {
   "cell_type": "code",
   "execution_count": 16,
   "metadata": {},
   "outputs": [
    {
     "name": "stdout",
     "output_type": "stream",
     "text": [
      "7738 5572\n"
     ]
    }
   ],
   "source": [
    "# Distinct customers in test set\n",
    "customers_test = set(transactions_test.customer_id.unique())\n",
    "customers_train_1year = set(transactions_train_1year.customer_id.unique())\n",
    "customers_train = set(transactions_train.customer_id.unique())\n",
    "\n",
    "print(len(customers_test - customers_train_1year), len(customers_test - customers_train))"
   ]
  },
  {
   "cell_type": "code",
   "execution_count": 15,
   "metadata": {},
   "outputs": [
    {
     "name": "stdout",
     "output_type": "stream",
     "text": [
      "685 667\n"
     ]
    }
   ],
   "source": [
    "# Distinct articles in test set\n",
    "articles_test = set(transactions_test.article_id.unique())\n",
    "articles_train_1year = set(transactions_train_1year.article_id.unique())\n",
    "articles_train = set(transactions_train.article_id.unique())\n",
    "\n",
    "print(len(articles_test - articles_train_1year), len(articles_test - articles_train))"
   ]
  },
  {
   "cell_type": "markdown",
   "metadata": {},
   "source": [
    "- At the end even while using 1 year or all transaction data, cold start problem still stands there.\n",
    "- But using all transactions give more info about almost 2k customer starting purchasing after one year gap."
   ]
  },
  {
   "cell_type": "markdown",
   "metadata": {},
   "source": [
    "### Cross Validation Split - 4 Folds -"
   ]
  },
  {
   "cell_type": "code",
   "execution_count": 2,
   "metadata": {},
   "outputs": [],
   "source": [
    "# Fold 1\n",
    "start_base = datetime.date(2019, 9, 22)\n",
    "end_base = datetime.date(2020, 9, 7)\n",
    "start_test = datetime.date(2019, 9, 8)\n",
    "end_test = datetime.date(2020, 9, 15)\n",
    "\n",
    "cond_base = (transactions.t_dat >= pd.Timestamp(start_base)) & (transactions.t_dat <= pd.Timestamp(end_base))\n",
    "base = transactions[cond_base]\n",
    "\n",
    "cond_test = (transactions.t_dat >= pd.Timestamp(start_test)) & (transactions.t_dat <= pd.Timestamp(end_test))\n",
    "test = transactions[cond_test]"
   ]
  },
  {
   "cell_type": "code",
   "execution_count": 6,
   "metadata": {},
   "outputs": [],
   "source": [
    "base.to_csv('data/folds/u1.base', index=False)\n",
    "test.to_csv('data/folds/u1.test', index=False)\n",
    "del base ,test"
   ]
  },
  {
   "cell_type": "code",
   "execution_count": 7,
   "metadata": {},
   "outputs": [],
   "source": [
    "# Fold 2\n",
    "start_base = datetime.date(2019, 9, 22)\n",
    "end_base = datetime.date(2020, 8, 30)\n",
    "start_test = datetime.date(2019, 9, 1)\n",
    "end_test = datetime.date(2020, 9, 7)\n",
    "\n",
    "cond_base = (transactions.t_dat >= pd.Timestamp(start_base)) & (transactions.t_dat <= pd.Timestamp(end_base))\n",
    "base = transactions[cond_base]\n",
    "\n",
    "cond_test = (transactions.t_dat >= pd.Timestamp(start_test)) & (transactions.t_dat <= pd.Timestamp(end_test))\n",
    "test = transactions[cond_test]"
   ]
  },
  {
   "cell_type": "code",
   "execution_count": 8,
   "metadata": {},
   "outputs": [],
   "source": [
    "base.to_csv('data/folds/u2.base', index=False)\n",
    "test.to_csv('data/folds/u2.test', index=False)\n",
    "del base ,test"
   ]
  },
  {
   "cell_type": "code",
   "execution_count": 9,
   "metadata": {},
   "outputs": [],
   "source": [
    "# Fold 3\n",
    "start_base = datetime.date(2018, 9, 22)\n",
    "end_base = datetime.date(2019, 9, 7)\n",
    "start_test = datetime.date(2018, 9, 8)\n",
    "end_test = datetime.date(2019, 9, 15)\n",
    "\n",
    "cond_base = (transactions.t_dat >= pd.Timestamp(start_base)) & (transactions.t_dat <= pd.Timestamp(end_base))\n",
    "base = transactions[cond_base]\n",
    "\n",
    "cond_test = (transactions.t_dat >= pd.Timestamp(start_test)) & (transactions.t_dat <= pd.Timestamp(end_test))\n",
    "test = transactions[cond_test]"
   ]
  },
  {
   "cell_type": "code",
   "execution_count": 10,
   "metadata": {},
   "outputs": [],
   "source": [
    "base.to_csv('data/folds/u3.base', index=False)\n",
    "test.to_csv('data/folds/u3.test', index=False)\n",
    "del base ,test"
   ]
  },
  {
   "cell_type": "code",
   "execution_count": 11,
   "metadata": {},
   "outputs": [],
   "source": [
    "# Fold 2\n",
    "start_base = datetime.date(2018, 9, 22)\n",
    "end_base = datetime.date(2019, 8, 30)\n",
    "start_test = datetime.date(2018, 9, 1)\n",
    "end_test = datetime.date(2019, 9, 7)\n",
    "\n",
    "cond_base = (transactions.t_dat >= pd.Timestamp(start_base)) & (transactions.t_dat <= pd.Timestamp(end_base))\n",
    "base = transactions[cond_base]\n",
    "\n",
    "cond_test = (transactions.t_dat >= pd.Timestamp(start_test)) & (transactions.t_dat <= pd.Timestamp(end_test))\n",
    "test = transactions[cond_test]"
   ]
  },
  {
   "cell_type": "code",
   "execution_count": 12,
   "metadata": {},
   "outputs": [],
   "source": [
    "base.to_csv('data/folds/u4.base', index=False)\n",
    "test.to_csv('data/folds/u4.test', index=False)\n",
    "del base ,test"
   ]
  }
 ],
 "metadata": {
  "interpreter": {
   "hash": "593d40d7cffee2f7fc9148203eec6afcc615f6015e795468e82ce0a2cb5c8eb0"
  },
  "kernelspec": {
   "display_name": "Python 3.9.7 ('base')",
   "language": "python",
   "name": "python3"
  },
  "language_info": {
   "codemirror_mode": {
    "name": "ipython",
    "version": 3
   },
   "file_extension": ".py",
   "mimetype": "text/x-python",
   "name": "python",
   "nbconvert_exporter": "python",
   "pygments_lexer": "ipython3",
   "version": "3.9.7"
  },
  "orig_nbformat": 4
 },
 "nbformat": 4,
 "nbformat_minor": 2
}
